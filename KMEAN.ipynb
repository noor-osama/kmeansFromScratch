{
 "cells": [
  {
   "cell_type": "code",
   "execution_count": 1,
   "metadata": {
    "id": "CI5dN38Fbu0X"
   },
   "outputs": [],
   "source": [
    "import numpy as np\n",
    "import pandas as pd\n",
    "import numpy.matlib\n",
    "import matplotlib.pyplot as plt\n",
    "import seaborn as sns\n",
    "from scipy.spatial.distance import cdist"
   ]
  },
  {
   "cell_type": "code",
   "execution_count": 2,
   "metadata": {},
   "outputs": [],
   "source": [
    "titanic = pd.read_csv('train.csv')"
   ]
  },
  {
   "cell_type": "code",
   "execution_count": 3,
   "metadata": {
    "id": "HUpanm7sbu0l"
   },
   "outputs": [
    {
     "data": {
      "text/html": [
       "<div>\n",
       "<style scoped>\n",
       "    .dataframe tbody tr th:only-of-type {\n",
       "        vertical-align: middle;\n",
       "    }\n",
       "\n",
       "    .dataframe tbody tr th {\n",
       "        vertical-align: top;\n",
       "    }\n",
       "\n",
       "    .dataframe thead th {\n",
       "        text-align: right;\n",
       "    }\n",
       "</style>\n",
       "<table border=\"1\" class=\"dataframe\">\n",
       "  <thead>\n",
       "    <tr style=\"text-align: right;\">\n",
       "      <th></th>\n",
       "      <th>Fare</th>\n",
       "      <th>Age</th>\n",
       "    </tr>\n",
       "  </thead>\n",
       "  <tbody>\n",
       "    <tr>\n",
       "      <th>302</th>\n",
       "      <td>0.0000</td>\n",
       "      <td>19.0</td>\n",
       "    </tr>\n",
       "    <tr>\n",
       "      <th>271</th>\n",
       "      <td>0.0000</td>\n",
       "      <td>25.0</td>\n",
       "    </tr>\n",
       "    <tr>\n",
       "      <th>179</th>\n",
       "      <td>0.0000</td>\n",
       "      <td>36.0</td>\n",
       "    </tr>\n",
       "    <tr>\n",
       "      <th>822</th>\n",
       "      <td>0.0000</td>\n",
       "      <td>38.0</td>\n",
       "    </tr>\n",
       "    <tr>\n",
       "      <th>806</th>\n",
       "      <td>0.0000</td>\n",
       "      <td>39.0</td>\n",
       "    </tr>\n",
       "    <tr>\n",
       "      <th>263</th>\n",
       "      <td>0.0000</td>\n",
       "      <td>40.0</td>\n",
       "    </tr>\n",
       "    <tr>\n",
       "      <th>597</th>\n",
       "      <td>0.0000</td>\n",
       "      <td>49.0</td>\n",
       "    </tr>\n",
       "    <tr>\n",
       "      <th>378</th>\n",
       "      <td>4.0125</td>\n",
       "      <td>20.0</td>\n",
       "    </tr>\n",
       "    <tr>\n",
       "      <th>872</th>\n",
       "      <td>5.0000</td>\n",
       "      <td>33.0</td>\n",
       "    </tr>\n",
       "    <tr>\n",
       "      <th>326</th>\n",
       "      <td>6.2375</td>\n",
       "      <td>61.0</td>\n",
       "    </tr>\n",
       "  </tbody>\n",
       "</table>\n",
       "</div>"
      ],
      "text/plain": [
       "       Fare   Age\n",
       "302  0.0000  19.0\n",
       "271  0.0000  25.0\n",
       "179  0.0000  36.0\n",
       "822  0.0000  38.0\n",
       "806  0.0000  39.0\n",
       "263  0.0000  40.0\n",
       "597  0.0000  49.0\n",
       "378  4.0125  20.0\n",
       "872  5.0000  33.0\n",
       "326  6.2375  61.0"
      ]
     },
     "execution_count": 3,
     "metadata": {},
     "output_type": "execute_result"
    }
   ],
   "source": [
    "cluster_data = titanic[['Fare','Age']].copy(deep=True)\n",
    "cluster_data.dropna(axis=0, inplace=True)\n",
    "cluster_data.sort_values(by=['Fare','Age'], inplace=True)\n",
    "cluster_data.head(10)"
   ]
  },
  {
   "cell_type": "code",
   "execution_count": 4,
   "metadata": {
    "colab": {
     "base_uri": "https://localhost:8080/"
    },
    "id": "54izrMvwbu0n",
    "outputId": "036ebe1f-8e56-499e-b984-0b9bbf584e40"
   },
   "outputs": [
    {
     "name": "stdout",
     "output_type": "stream",
     "text": [
      "[[ 0.     19.    ]\n",
      " [ 0.     25.    ]\n",
      " [ 0.     36.    ]\n",
      " [ 0.     38.    ]\n",
      " [ 0.     39.    ]\n",
      " [ 0.     40.    ]\n",
      " [ 0.     49.    ]\n",
      " [ 4.0125 20.    ]\n",
      " [ 5.     33.    ]\n",
      " [ 6.2375 61.    ]]\n"
     ]
    }
   ],
   "source": [
    "cluster_array = np.array(cluster_data)\n",
    "print(cluster_array[0:10])"
   ]
  },
  {
   "cell_type": "code",
   "execution_count": 5,
   "metadata": {
    "colab": {
     "base_uri": "https://localhost:8080/"
    },
    "id": "8XZqc_JLj8pU",
    "outputId": "dacc0dc8-bbf5-41dc-e0d7-5572544570c1"
   },
   "outputs": [
    {
     "data": {
      "text/plain": [
       "(714, 2)"
      ]
     },
     "execution_count": 5,
     "metadata": {},
     "output_type": "execute_result"
    }
   ],
   "source": [
    "cluster_array.shape"
   ]
  },
  {
   "cell_type": "code",
   "execution_count": 6,
   "metadata": {
    "id": "VgGLesDwbu0v"
   },
   "outputs": [],
   "source": [
    "#k = 4\n",
    "k=0\n",
    "def kmeans(x,k, no_of_iterations):\n",
    "    idx = np.random.choice(len(x), k, replace=False)\n",
    "    #Randomly choosing Centroids \n",
    "    centroids = x[idx, :] #Step 1\n",
    "    print(f\"idx{idx}\\n\")\n",
    "    print(f\"centroids\\n{centroids}\\n\")\n",
    "     \n",
    "    #finding the distance between centroids and all the data points\n",
    "    distances = cdist(x, centroids ,'euclidean') #Step 2\n",
    "     \n",
    "    #Centroid with the minimum Distance\n",
    "    points = np.array([np.argmin(i) for i in distances]) #Step 3\n",
    "    #Repeating the above steps for a defined number of iterations\n",
    "    #Step 4\n",
    "    for _ in range(no_of_iterations): \n",
    "        centroids = []\n",
    "        for idx in range(k):\n",
    "            #Updating Centroids by taking mean of Cluster it belongs to\n",
    "            temp_cent = x[points==idx].mean(axis=0) \n",
    "            centroids.append(temp_cent)\n",
    "            \n",
    "        centroids = np.vstack(centroids) #Updated Centroids \n",
    "         \n",
    "        distances = cdist(x, centroids ,'euclidean')\n",
    "        points = np.array([np.argmin(i) for i in distances])\n",
    "         \n",
    "    return points,distances\n"
   ]
  },
  {
   "cell_type": "code",
   "execution_count": 33,
   "metadata": {
    "id": "BUd_Vl3DHLaz"
   },
   "outputs": [
    {
     "name": "stdout",
     "output_type": "stream",
     "text": [
      "idx[397  67 385 102 458]\n",
      "\n",
      "centroids\n",
      "[[20.525  33.    ]\n",
      " [ 7.7333 21.    ]\n",
      " [19.2583  0.75  ]\n",
      " [ 7.7958 28.    ]\n",
      " [26.25   31.    ]]\n",
      "\n",
      "[ 0. 19.]\n"
     ]
    }
   ],
   "source": [
    "k=5\n",
    "\n",
    "label,distances = kmeans(cluster_array,k,10)\n",
    "print(cluster_array[0])\n"
   ]
  },
  {
   "cell_type": "code",
   "execution_count": 34,
   "metadata": {
    "colab": {
     "base_uri": "https://localhost:8080/",
     "height": 265
    },
    "id": "Ui0-LXroHyPk",
    "outputId": "6133baf1-9ecc-4b6c-e5ea-51ec591c3fb6"
   },
   "outputs": [
    {
     "data": {
      "image/png": "[encoded data removed]",
      "text/plain": [
       "<Figure size 432x288 with 1 Axes>"
      ]
     },
     "metadata": {
      "needs_background": "light"
     },
     "output_type": "display_data"
    }
   ],
   "source": [
    "#Visualize the results\n",
    "u_labels = np.unique(label)\n",
    "for i in u_labels:\n",
    "    plt.scatter(cluster_array[label == i , 0] , cluster_array[label == i , 1] , label = i)\n",
    "plt.legend()\n",
    "plt.show()"
   ]
  },
  {
   "cell_type": "code",
   "execution_count": 15,
   "metadata": {
    "id": "AnP3BwpjK1U1"
   },
   "outputs": [
    {
     "name": "stdout",
     "output_type": "stream",
     "text": [
      "idx[532]\n",
      "\n",
      "centroids\n",
      "[[32.5 34. ]]\n",
      "\n",
      "idx[636 225]\n",
      "\n",
      "centroids\n",
      "[[78.2667 54.    ]\n",
      " [ 9.5    28.    ]]\n",
      "\n",
      "idx[337 322 314]\n",
      "\n",
      "centroids\n",
      "[[14.4542 14.5   ]\n",
      " [13.     42.    ]\n",
      " [13.     36.    ]]\n",
      "\n",
      "idx[163 346 287 412]\n",
      "\n",
      "centroids\n",
      "[[ 8.05 16.  ]\n",
      " [14.5  24.  ]\n",
      " [13.   19.  ]\n",
      " [23.    4.  ]]\n",
      "\n",
      "idx[693 146 133 680 250]\n",
      "\n",
      "centroids\n",
      "[[153.4625  58.    ]\n",
      " [  7.925   21.    ]\n",
      " [  7.8958  28.    ]\n",
      " [133.65    50.    ]\n",
      " [ 10.5     29.    ]]\n",
      "\n",
      "idx[265 251 518 549 515 155]\n",
      "\n",
      "centroids\n",
      "[[11.1333  4.    ]\n",
      " [10.5    30.    ]\n",
      " [31.     30.    ]\n",
      " [38.5    47.    ]\n",
      " [30.5    52.    ]\n",
      " [ 7.925  32.    ]]\n",
      "\n",
      "idx[546 262 450 664 395  82 677]\n",
      "\n",
      "centroids\n",
      "[[ 36.75   19.   ]\n",
      " [ 10.5    70.   ]\n",
      " [ 26.     44.   ]\n",
      " [ 93.5    30.   ]\n",
      " [ 20.525   9.   ]\n",
      " [  7.75   70.5  ]\n",
      " [120.     14.   ]]\n",
      "\n",
      "idx[561 242 691  45 159 218 152 338]\n",
      "\n",
      "centroids\n",
      "[[ 39.6875  41.    ]\n",
      " [ 10.5     19.    ]\n",
      " [153.4625  38.    ]\n",
      " [  7.2292  30.    ]\n",
      " [  7.925   39.    ]\n",
      " [  9.35    22.    ]\n",
      " [  7.925   28.    ]\n",
      " [ 14.4542  15.    ]]\n",
      "\n",
      "idx[537 345 298 489 249 669 448 223 706]\n",
      "\n",
      "centroids\n",
      "[[ 34.375   9.   ]\n",
      " [ 14.5    19.   ]\n",
      " [ 13.     27.   ]\n",
      " [ 27.9     2.   ]\n",
      " [ 10.5    29.   ]\n",
      " [108.9    18.   ]\n",
      " [ 26.     42.   ]\n",
      " [  9.5    24.   ]\n",
      " [262.375  21.   ]]\n",
      "\n"
     ]
    }
   ],
   "source": [
    "SSE = []\n",
    "for k in range(1,10):   \n",
    "    label,distances = kmeans(cluster_array,k,10)\n",
    "    SSE.append(np.sum(pow(distances.min(axis=1),2))/len(cluster_array))"
   ]
  },
  {
   "cell_type": "code",
   "execution_count": 16,
   "metadata": {
    "colab": {
     "base_uri": "https://localhost:8080/",
     "height": 282
    },
    "id": "dd_hBxRRK9-q",
    "outputId": "4c0cf484-e60b-4fa1-b7dc-9f7be32acd99"
   },
   "outputs": [
    {
     "data": {
      "text/plain": [
       "[<matplotlib.lines.Line2D at 0x15f2ae6a580>]"
      ]
     },
     "execution_count": 16,
     "metadata": {},
     "output_type": "execute_result"
    },
    {
     "data": {
      "image/png": "[encoded data removed]",
      "text/plain": [
       "<Figure size 432x288 with 1 Axes>"
      ]
     },
     "metadata": {
      "needs_background": "light"
     },
     "output_type": "display_data"
    }
   ],
   "source": [
    "k = range(1,10)\n",
    "plt.plot(k,SSE)"
   ]
  },
  {
   "cell_type": "code",
   "execution_count": null,
   "metadata": {},
   "outputs": [],
   "source": []
  }
 ],
 "metadata": {
  "colab": {
   "name": "ML_2ipynb.ipynb",
   "provenance": []
  },
  "kernelspec": {
   "display_name": "Python 3 (ipykernel)",
   "language": "python",
   "name": "python3"
  },
  "language_info": {
   "codemirror_mode": {
    "name": "ipython",
    "version": 3
   },
   "file_extension": ".py",
   "mimetype": "text/x-python",
   "name": "python",
   "nbconvert_exporter": "python",
   "pygments_lexer": "ipython3",
   "version": "3.8.3"
  }
 },
 "nbformat": 4,
 "nbformat_minor": 1
}
